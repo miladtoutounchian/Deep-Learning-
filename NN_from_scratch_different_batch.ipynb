{
 "cells": [
  {
   "cell_type": "code",
   "execution_count": 236,
   "metadata": {},
   "outputs": [
    {
     "name": "stdout",
     "output_type": "stream",
     "text": [
      "[[0.97601763 0.96179233 0.04180559]]\n"
     ]
    }
   ],
   "source": [
    "import numpy as np\n",
    "\n",
    "# check this out:\n",
    "# https://www.analyticsvidhya.com/blog/2017/05/neural-network-from-scratch-in-python-and-r/\n",
    "# Input array\n",
    "X=np.array([[1,0,1,0],[1,0,1,1],[0,1,0,1]])\n",
    "\n",
    "#Output\n",
    "y=np.array([[1],[1],[0]])\n",
    "\n",
    "\n",
    "#Sigmoid Function\n",
    "def sigmoid (x):\n",
    "    return 1/(1 + np.exp(-x))\n",
    "\n",
    "\n",
    "#Derivative of Sigmoid Function\n",
    "def derivatives_sigmoid(x):\n",
    "    return x * (1 - x)\n",
    "\n",
    "\n",
    "\n",
    "#Variable initialization\n",
    "epoch=5000 #Setting training iterations\n",
    "lr=0.1 #Setting learning rate\n",
    "inputlayer_neurons = X.shape[1] #number of features in data set\n",
    "hiddenlayer_neurons = 3 #number of hidden layers neurons\n",
    "output_neurons = 1 #number of neurons at output layer\n",
    "\n",
    "#weight and bias initialization\n",
    "wi=np.random.uniform(size=(3, 4))\n",
    "bi=np.random.uniform(size=(3, 1))\n",
    "wh=np.random.uniform(size=(1, 3))\n",
    "bh=np.random.uniform(size=(1, 1))\n",
    "\n",
    "# print(wh)\n",
    "\n",
    "for i in range(epoch):\n",
    "    #Forward Propogation\n",
    "    hidden_layer_input1=np.dot(wi, X.T)\n",
    "    hidden_layer_input=hidden_layer_input1 + bi\n",
    "    hiddenlayer_activations = sigmoid(hidden_layer_input)\n",
    "    output_layer_input1=np.dot(wh, hiddenlayer_activations)\n",
    "    output_layer_input= output_layer_input1+ bh\n",
    "    output = sigmoid(output_layer_input)\n",
    "\n",
    "#     Backpropagation\n",
    "    D = output.T - y\n",
    "#     print(D.shape)\n",
    "\n",
    "    slope_output_layer = derivatives_sigmoid(output.T)\n",
    "#     print(slope_output_layer.shape)\n",
    "    slope_hidden_layer = derivatives_sigmoid(hiddenlayer_activations)\n",
    "    d_output = D * slope_output_layer\n",
    "#     print(slope_hidden_layer)\n",
    "    Error_at_hidden_layer = np.dot(wh.T, d_output.T)\n",
    "    d_hiddenlayer = Error_at_hidden_layer * slope_hidden_layer\n",
    "\n",
    "    wh -= np.dot(d_output.T, hiddenlayer_activations) *lr\n",
    "    bh -= np.sum(d_output) *lr\n",
    "\n",
    "    wi -= np.dot(d_hiddenlayer, X) *lr\n",
    "    bi -= np.sum(d_hiddenlayer) *lr\n",
    "\n",
    "print(output)"
   ]
  },
  {
   "cell_type": "markdown",
   "metadata": {},
   "source": [
    "## Test the Neural Net Training "
   ]
  },
  {
   "cell_type": "code",
   "execution_count": 226,
   "metadata": {},
   "outputs": [
    {
     "name": "stdout",
     "output_type": "stream",
     "text": [
      "[[0.98361021 0.97413948 0.03492208]]\n"
     ]
    }
   ],
   "source": [
    "hidden_layer_input1=np.dot(wi, X.T)\n",
    "hidden_layer_input=hidden_layer_input1 + bi\n",
    "hiddenlayer_activations = sigmoid(hidden_layer_input)\n",
    "output_layer_input1=np.dot(wh, hiddenlayer_activations)\n",
    "output_layer_input= output_layer_input1+ bh\n",
    "output = sigmoid(output_layer_input)\n",
    "print(output)"
   ]
  },
  {
   "cell_type": "markdown",
   "metadata": {},
   "source": [
    "## Update the weights and biases sample by sample (batch_size = 1)"
   ]
  },
  {
   "cell_type": "code",
   "execution_count": 227,
   "metadata": {},
   "outputs": [],
   "source": [
    "import numpy as np\n",
    "\n",
    "# check this out:\n",
    "# https://www.analyticsvidhya.com/blog/2017/05/neural-network-from-scratch-in-python-and-r/\n",
    "# Input array\n",
    "X=np.array([[1,0,1,0],[1,0,1,1],[0,1,0,1]])\n",
    "\n",
    "#Output\n",
    "yp=np.array([[1],[1],[0]])\n",
    "\n",
    "\n",
    "#Sigmoid Function\n",
    "def sigmoid (x):\n",
    "    return 1/(1 + np.exp(-x))\n",
    "\n",
    "\n",
    "#Derivative of Sigmoid Function\n",
    "def derivatives_sigmoid(x):\n",
    "    return x * (1 - x)\n",
    "\n",
    "\n",
    "\n",
    "#Variable initialization\n",
    "epoch=5000 #Setting training iterations\n",
    "lr=0.1 #Setting learning rate\n",
    "inputlayer_neurons = X.shape[1] #number of features in data set\n",
    "hiddenlayer_neurons = 3 #number of hidden layers neurons\n",
    "output_neurons = 1 #number of neurons at output layer\n",
    "\n",
    "#weight and bias initialization\n",
    "wi=np.random.uniform(size=(3, 4))\n",
    "bi=np.random.uniform(size=(3, 1))\n",
    "wh=np.random.uniform(size=(1, 3))\n",
    "bh=np.random.uniform(size=(1, 1))\n",
    "\n",
    "\n",
    "\n",
    "for i in range(epoch):\n",
    "    for x, y in zip(X, yp):\n",
    "        hidden_layer_input1=np.dot(wi, np.array([x]).T)\n",
    "        hidden_layer_input=hidden_layer_input1 + bi\n",
    "        hiddenlayer_activations = sigmoid(hidden_layer_input)\n",
    "        output_layer_input1=np.dot(wh, hiddenlayer_activations)\n",
    "\n",
    "        output_layer_input= output_layer_input1+ bh\n",
    "        output = sigmoid(output_layer_input)\n",
    "\n",
    "        D = output.T - y\n",
    "\n",
    "        slope_output_layer = derivatives_sigmoid(output.T)\n",
    "        slope_hidden_layer = derivatives_sigmoid(hiddenlayer_activations)\n",
    "        d_output = D * slope_output_layer\n",
    "        \n",
    "        Error_at_hidden_layer = np.dot(wh.T, d_output.T)\n",
    "        d_hiddenlayer = Error_at_hidden_layer * slope_hidden_layer\n",
    "\n",
    "        wh -= np.dot(hiddenlayer_activations, d_output[0]) *lr\n",
    "        bh -= np.sum(d_output) *lr\n",
    "\n",
    "        wi -= np.dot(d_hiddenlayer, np.array([x])) *lr\n",
    "        bi -= np.sum(d_hiddenlayer) *lr\n"
   ]
  },
  {
   "cell_type": "markdown",
   "metadata": {},
   "source": [
    "## Test the Neural Net Training for batch_size = 1"
   ]
  },
  {
   "cell_type": "code",
   "execution_count": 228,
   "metadata": {},
   "outputs": [
    {
     "name": "stdout",
     "output_type": "stream",
     "text": [
      "[[0.97153723]]\n",
      "[[0.95870464]]\n",
      "[[0.05476773]]\n"
     ]
    }
   ],
   "source": [
    "for x in X:\n",
    "    hidden_layer_input1=np.dot(wi, np.array([x]).T)\n",
    "    hidden_layer_input=hidden_layer_input1 + bi\n",
    "    hiddenlayer_activations = sigmoid(hidden_layer_input)\n",
    "    output_layer_input1=np.dot(wh, hiddenlayer_activations)\n",
    "    output_layer_input= output_layer_input1+ bh\n",
    "    output = sigmoid(output_layer_input)\n",
    "    print(output)"
   ]
  },
  {
   "cell_type": "code",
   "execution_count": null,
   "metadata": {},
   "outputs": [],
   "source": []
  },
  {
   "cell_type": "code",
   "execution_count": null,
   "metadata": {},
   "outputs": [],
   "source": []
  }
 ],
 "metadata": {
  "kernelspec": {
   "display_name": "Python 3",
   "language": "python",
   "name": "python3"
  },
  "language_info": {
   "codemirror_mode": {
    "name": "ipython",
    "version": 3
   },
   "file_extension": ".py",
   "mimetype": "text/x-python",
   "name": "python",
   "nbconvert_exporter": "python",
   "pygments_lexer": "ipython3",
   "version": "3.6.5"
  }
 },
 "nbformat": 4,
 "nbformat_minor": 2
}
